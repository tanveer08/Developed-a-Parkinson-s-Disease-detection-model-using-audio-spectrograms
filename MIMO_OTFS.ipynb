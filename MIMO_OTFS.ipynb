{
  "nbformat": 4,
  "nbformat_minor": 0,
  "metadata": {
    "colab": {
      "provenance": [],
      "authorship_tag": "ABX9TyPR1HDjdKslRQEu2bI4y1P6",
      "include_colab_link": true
    },
    "kernelspec": {
      "name": "python3",
      "display_name": "Python 3"
    },
    "language_info": {
      "name": "python"
    }
  },
  "cells": [
    {
      "cell_type": "markdown",
      "metadata": {
        "id": "view-in-github",
        "colab_type": "text"
      },
      "source": [
        "<a href=\"https://colab.research.google.com/github/tanveer08/Developed-a-Parkinson-s-Disease-detection-model-using-audio-spectrograms/blob/main/MIMO_OTFS.ipynb\" target=\"_parent\"><img src=\"https://colab.research.google.com/assets/colab-badge.svg\" alt=\"Open In Colab\"/></a>"
      ]
    },
    {
      "cell_type": "code",
      "execution_count": null,
      "metadata": {
        "id": "QO_CLX5dZ1bm"
      },
      "outputs": [],
      "source": [
        "import numpy as np\n",
        "\n",
        "M = 4\n",
        "N = 4\n",
        "\n",
        "T = 1\n",
        "ALPHA_WIDTH = 10\n",
        "n_samples_per_T = 100\n",
        "delta_t = T / n_samples_per_T\n",
        "t = np.arange(-ALPHA_WIDTH * 10, ALPHA_WIDTH * 10 + delta_t, delta_t)"
      ]
    },
    {
      "cell_type": "code",
      "source": [
        "def alpha_kl(k, l, T, t):\n",
        "    s = np.zeros(t.shape)\n",
        "    for n in range(N):\n",
        "        current_signal = np.exp(1j * 2 * np.pi * k * n / N) * M / T * np.exp(1j * np.pi * M * (t - l / M * T - n * T)) * np.sinc(M / T * (t - l * T / M - n * T))\n",
        "        s = s + current_signal\n",
        "    return np.sqrt(T / M / N) * s\n",
        "\n",
        "alpha_signals = np.zeros((M, N, t.shape[0]), dtype='complex128')\n",
        "for k in range(N):\n",
        "    for l in range(M):\n",
        "        s = alpha_kl(k, l, T, t)\n",
        "        alpha_signals[k, l] = s"
      ],
      "metadata": {
        "id": "kglUwhCmaOBO"
      },
      "execution_count": null,
      "outputs": []
    },
    {
      "cell_type": "code",
      "source": [
        "#Data from Tx-1\n",
        "\n",
        "data_tx_1 = np.zeros((M, N), dtype='complex128')\n",
        "data_tx_1[0, 0] = 1.0\n",
        "#Data from Tx-2\n",
        "data_tx_2 = np.zeros((M, N), dtype='complex128')\n",
        "data_tx_2[0, 0] = 1.0\n",
        "#Clubbing the data togther\n",
        "#data_transmitted= np.zeros(((M, N),2), dtype='complex128')\n",
        "X = []\n",
        "X.append(data_tx_1)\n",
        "X.append(data_tx_2)\n",
        "print(X)\n",
        "print(data_tx_1[0, 0])\n",
        "print(X[1][0,0])"
      ],
      "metadata": {
        "id": "X0aAwybNaQbu",
        "colab": {
          "base_uri": "https://localhost:8080/"
        },
        "outputId": "b195fab5-2c10-42e3-f0ce-49f7e485799f"
      },
      "execution_count": null,
      "outputs": [
        {
          "output_type": "stream",
          "name": "stdout",
          "text": [
            "[array([[1.+0.j, 0.+0.j, 0.+0.j, 0.+0.j],\n",
            "       [0.+0.j, 0.+0.j, 0.+0.j, 0.+0.j],\n",
            "       [0.+0.j, 0.+0.j, 0.+0.j, 0.+0.j],\n",
            "       [0.+0.j, 0.+0.j, 0.+0.j, 0.+0.j]]), array([[1.+0.j, 0.+0.j, 0.+0.j, 0.+0.j],\n",
            "       [0.+0.j, 0.+0.j, 0.+0.j, 0.+0.j],\n",
            "       [0.+0.j, 0.+0.j, 0.+0.j, 0.+0.j],\n",
            "       [0.+0.j, 0.+0.j, 0.+0.j, 0.+0.j]])]\n",
            "(1+0j)\n",
            "(1+0j)\n"
          ]
        }
      ]
    },
    {
      "cell_type": "code",
      "source": [
        "data_signal_1 = np.zeros(t.shape, dtype='complex128')\n",
        "data_signal_2 = np.zeros(t.shape, dtype='complex128')\n",
        "for k in range(N):\n",
        "    for l in range(M):\n",
        "        data_signal_1 += data_tx_1[k, l] * alpha_kl(k, l, T, t)\n",
        "        data_signal_2 += data_tx_2[k, l] * alpha_kl(k, l, T, t)\n"
      ],
      "metadata": {
        "id": "eezpsoicaTnI"
      },
      "execution_count": null,
      "outputs": []
    },
    {
      "cell_type": "markdown",
      "source": [
        "Channel Paths Coefficients for each Tx-Rx  Pair"
      ],
      "metadata": {
        "id": "1Z-nmy0Qfq84"
      }
    },
    {
      "cell_type": "code",
      "source": [
        "h_vals_11 = np.array([1.0, 0.4 + 0.3j, -0.2 + 0.1j])\n",
        "tau_vals_int_11 = [0, 1, 2] # to be scaled by T / N\n",
        "nu_vals_int_11 = [0, 1, 2] # to be scaled by 1 / T / M\n",
        "\n",
        "h_vals_21 = np.array([1.6, 0.8 + 0.6j, -0.5 + 0.7j])\n",
        "tau_vals_int_21 = [0, 2, 1] # to be scaled by T / N\n",
        "nu_vals_int_21 = [0, 1, 2] # to be scaled by 1 / T / M\n",
        "\n",
        "h_vals_12 = np.array([1.0, 0.4 + 0.3j, -0.2 + 0.1j])\n",
        "tau_vals_int_12 = [0, 1, 2] # to be scaled by T / N\n",
        "nu_vals_int_12 = [0, 1, 2] # to be scaled by 1 / T / M\n",
        "\n",
        "h_vals_22 = np.array([1.6, 0.8 + 0.6j, -0.5 + 0.7j])\n",
        "tau_vals_int_22 = [0, 1, 2] # to be scaled by T / N\n",
        "nu_vals_int_22 = [0, 1, 2] # to be scaled by 1 / T / M\n"
      ],
      "metadata": {
        "id": "eOOt_OyOJUWt"
      },
      "execution_count": null,
      "outputs": []
    },
    {
      "cell_type": "code",
      "source": [
        "received_signal_1 = np.zeros(data_signal_1.shape, dtype='complex')\n",
        "received_signal_2 = np.zeros(data_signal_1.shape, dtype='complex')\n",
        "\n",
        "for i in range(len(h_vals_11)):\n",
        "    delay = tau_vals_int_11[i]\n",
        "    doppler_shift = nu_vals_int_11[i] / M / T\n",
        "    n_samples_changed = delay * n_samples_per_T // N\n",
        "    if delay == 0:\n",
        "        delayed_s = data_signal_1\n",
        "    else:\n",
        "        delayed_s = np.concatenate((np.zeros(n_samples_changed, dtype='complex128'), data_signal_1[:-n_samples_changed]))\n",
        "    received_signal_1 += delayed_s * h_vals_11[i] * np.exp(1j * 2 * np.pi * doppler_shift * t)\n",
        "\n",
        "for i in range(len(h_vals_12)):\n",
        "    delay = tau_vals_int_12[i]\n",
        "    doppler_shift = nu_vals_int_12[i] / M / T\n",
        "    n_samples_changed = delay * n_samples_per_T // N\n",
        "    if delay == 0:\n",
        "        delayed_s = data_signal_2\n",
        "    else:\n",
        "        delayed_s = np.concatenate((np.zeros(n_samples_changed, dtype='complex128'), data_signal_2[:-n_samples_changed]))\n",
        "    received_signal_1 += delayed_s * h_vals_12[i] * np.exp(1j * 2 * np.pi * doppler_shift * t)\n",
        "\n",
        "for i in range(len(h_vals_21)):\n",
        "    delay = tau_vals_int_21[i]\n",
        "    doppler_shift = nu_vals_int_21[i] / M / T\n",
        "    n_samples_changed = delay * n_samples_per_T // N\n",
        "    if delay == 0:\n",
        "        delayed_s = data_signal_1\n",
        "    else:\n",
        "        delayed_s = np.concatenate((np.zeros(n_samples_changed, dtype='complex128'), data_signal_1[:-n_samples_changed]))\n",
        "    received_signal_2 += delayed_s * h_vals_21[i] * np.exp(1j * 2 * np.pi * doppler_shift * t)\n",
        "\n",
        "for i in range(len(h_vals_22)):\n",
        "    delay = tau_vals_int_21[i]\n",
        "    doppler_shift = nu_vals_int_22[i] / M / T\n",
        "    n_samples_changed = delay * n_samples_per_T // N\n",
        "    if delay == 0:\n",
        "        delayed_s = data_signal_2\n",
        "    else:\n",
        "        delayed_s = np.concatenate((np.zeros(n_samples_changed, dtype='complex128'), data_signal_2[:-n_samples_changed]))\n",
        "    received_signal_2 += delayed_s * h_vals_22[i] * np.exp(1j * 2 * np.pi * doppler_shift * t)"
      ],
      "metadata": {
        "id": "1smR_TnJaZc-"
      },
      "execution_count": null,
      "outputs": []
    },
    {
      "cell_type": "code",
      "source": [
        "received_data_1 = np.zeros(data_tx_1.shape, dtype='complex')\n",
        "for k in range(N):\n",
        "    for l in range(M):\n",
        "        received_data_1[k, l] = np.trapz(received_signal_1 * np.conj(alpha_signals[k, l]), t)\n",
        "np.set_printoptions(linewidth=np.inf)\n",
        "print(received_data_1)\n",
        "#For Rx-2\n",
        "received_data_2 = np.zeros(data_tx_1.shape, dtype='complex')\n",
        "for k in range(N):\n",
        "    for l in range(M):\n",
        "        received_data_2[k, l] = np.trapz(received_signal_2 * np.conj(alpha_signals[k, l]), t)\n",
        "np.set_printoptions(linewidth=np.inf)\n",
        "print(received_data_2)"
      ],
      "metadata": {
        "colab": {
          "base_uri": "https://localhost:8080/"
        },
        "id": "EcUg6MjPacNe",
        "outputId": "8c48da13-a657-4e10-d4e8-8cf58608f3c6"
      },
      "execution_count": null,
      "outputs": [
        {
          "output_type": "stream",
          "name": "stdout",
          "text": [
            "[[ 1.02831266+0.01178386j  0.02323123+0.01685392j  0.01786952+0.0194482j   0.01338188+0.02023668j]\n",
            " [-0.04536542-0.02938766j  0.21745195+0.38492377j -0.02228695-0.05844657j -0.00181252-0.06530036j]\n",
            " [ 0.02658269-0.01887602j  0.0282009 -0.00120566j -0.08093866-0.187398j    0.00431097+0.01679129j]\n",
            " [ 0.01473289-0.00335635j  0.01304596+0.00129792j  0.00994681+0.00394207j  0.00692279+0.00438508j]]\n",
            "[[ 1.68456047+0.05368462j  0.06486743+0.07329986j  0.04089273+0.08258761j  0.01846996+0.08171565j]\n",
            " [-0.06701843-0.05282384j -0.06627026-0.07869608j  0.09067121+0.87964734j -0.01678574-0.13764069j]\n",
            " [ 0.07837606-0.104208j   -0.73134227+0.09798726j  0.11143952+0.02626319j  0.06619986+0.07514593j]\n",
            " [ 0.05318967-0.011566j    0.0509368 +0.00924358j  0.03940383+0.02500691j  0.02335313+0.03180491j]]\n"
          ]
        }
      ]
    },
    {
      "cell_type": "code",
      "source": [
        "channel_indices_11 = np.argwhere(np.abs(received_data_1) > 0.1)\n",
        "print(channel_indices_11)\n",
        "L = channel_indices_11.shape[0]\n",
        "estimated_tau_vals_int_11 = channel_indices_11[:,1]\n",
        "estimated_nu_vals_int_11 = channel_indices_11[:,0]\n",
        "print(f\"Estimated delays: {estimated_tau_vals_int_11}\")\n",
        "print(f\"Estimated Doppler shifts: {estimated_nu_vals_int_11}\")\n",
        "\n",
        "channel_indices_21 = np.argwhere(np.abs(received_data_2) > 0.15)\n",
        "print(channel_indices_21)\n",
        "L = channel_indices_21.shape[0]\n",
        "estimated_tau_vals_int_21 = channel_indices_21[:,1]\n",
        "estimated_nu_vals_int_21 = channel_indices_21[:,0]\n",
        "print(f\"Estimated delays: {estimated_tau_vals_int_21}\")\n",
        "print(f\"Estimated Doppler shifts: {estimated_nu_vals_int_21}\")\n",
        "\n",
        "# channel_indices_12 = np.argwhere(np.abs(received_data_1) > 0.15)\n",
        "# print(channel_indices_12)\n",
        "# L = channel_indices_12.shape[0]\n",
        "# estimated_tau_vals_int_12 = channel_indices_12[:,1]\n",
        "# estimated_nu_vals_int_12 = channel_indices_12[:,0]\n",
        "# print(f\"Estimated delays: {estimated_tau_vals_int_12}\")\n",
        "# print(f\"Estimated Doppler shifts: {estimated_nu_vals_int_12}\")\n",
        "\n",
        "# channel_indices_22 = np.argwhere(np.abs(received_data_2) > 0.15)\n",
        "# print(channel_indices_22)\n",
        "# L = channel_indices_21.shape[0]\n",
        "# estimated_tau_vals_int_22 = channel_indices_22[:,1]\n",
        "# estimated_nu_vals_int_22 = channel_indices_22[:,0]\n",
        "# print(f\"Estimated delays: {estimated_tau_vals_int_22}\")\n",
        "# print(f\"Estimated Doppler shifts: {estimated_nu_vals_int_22}\")"
      ],
      "metadata": {
        "colab": {
          "base_uri": "https://localhost:8080/"
        },
        "id": "6vkYg0zDafuA",
        "outputId": "44f6314a-6a3d-43f5-88eb-59ea80d06492"
      },
      "execution_count": null,
      "outputs": [
        {
          "output_type": "stream",
          "name": "stdout",
          "text": [
            "[[0 0]\n",
            " [1 1]\n",
            " [2 2]]\n",
            "Estimated delays: [0 1 2]\n",
            "Estimated Doppler shifts: [0 1 2]\n",
            "[[0 0]\n",
            " [1 2]\n",
            " [2 1]]\n",
            "Estimated delays: [0 2 1]\n",
            "Estimated Doppler shifts: [0 1 2]\n"
          ]
        }
      ]
    },
    {
      "cell_type": "markdown",
      "source": [
        "Correction Factor for each combination"
      ],
      "metadata": {
        "id": "ELha6iwh48yI"
      }
    },
    {
      "cell_type": "code",
      "source": [
        "def correction_factors_matrix(channel_indices,estimated_tau_vals_int,estimated_nu_vals_int,data_signal):\n",
        "\n",
        "  L = channel_indices.shape[0]\n",
        "  correction_factors = np.zeros((L, L), dtype='complex')\n",
        "  for m in range(L):\n",
        "    k_prime, l_prime = channel_indices[m,:]\n",
        "    for i in range(L):\n",
        "        delay = estimated_tau_vals_int[i]\n",
        "        nu_i = estimated_nu_vals_int[i]\n",
        "        doppler_shift = nu_i / M / T\n",
        "        n_samples_changed = delay * n_samples_per_T // N\n",
        "        if delay == 0:\n",
        "            s = data_signal\n",
        "        else:\n",
        "            s = np.concatenate((np.zeros(n_samples_changed, dtype='complex128'), data_signal[:-n_samples_changed]))\n",
        "        s = s * np.exp(1j * 2 * np.pi * doppler_shift * t)\n",
        "        correction_factors[m,i] = np.trapz(s * np.conj(alpha_signals[k_prime, l_prime]), t)\n",
        "  return(correction_factors)\n",
        "\n",
        "print(correction_factors_matrix(channel_indices_11,estimated_tau_vals_int_11,estimated_nu_vals_int_11,data_signal_2))"
      ],
      "metadata": {
        "colab": {
          "base_uri": "https://localhost:8080/"
        },
        "id": "A5LwXbKzv7-x",
        "outputId": "1a67779b-4524-40c5-c695-1bda328e9c23"
      },
      "execution_count": null,
      "outputs": [
        {
          "output_type": "stream",
          "name": "stdout",
          "text": [
            "[[ 9.98986476e-01+0.00000000e+00j  5.43921629e-02-3.63449898e-02j  3.33451410e-02-3.33484571e-02j]\n",
            " [ 6.75869617e-08-1.01426053e-07j  8.17123756e-01+3.38463768e-01j  4.02364548e-02-1.88797768e-03j]\n",
            " [ 9.29829407e-08-1.18112322e-18j -4.37960385e-03-2.77102829e-02j -7.75099329e-09+8.75000009e-01j]]\n"
          ]
        }
      ]
    },
    {
      "cell_type": "code",
      "source": [
        "Y = []\n",
        "for i in range(L):\n",
        "    Y.append(received_data_1[channel_indices_11[i, 0], channel_indices_11[i, 1]])\n",
        "for i in range(L):\n",
        "    Y.append(received_data_2[channel_indices_21[i, 0], channel_indices_21[i, 1]])\n",
        "\n",
        "correction_factors_1 = correction_factors_matrix(channel_indices_11,estimated_tau_vals_int_11,estimated_nu_vals_int_11,data_signal_2)\n",
        "correction_factors_2 = correction_factors_matrix(channel_indices_21,estimated_tau_vals_int_21,estimated_nu_vals_int_21,data_signal_2)\n",
        "\n",
        "print(correction_factors_1)\n",
        "print(correction_factors_2)\n",
        "correction_factors = np.zeros((2*L, 2*L), dtype='complex')\n",
        "for i in range(L):\n",
        "  for j in range(L):\n",
        "      correction_factors[i,j]=correction_factors_1[i,j]\n",
        "\n",
        "for i in range(L):\n",
        "  for j in range(L):\n",
        "      correction_factors[L+i,L+j]=correction_factors_2[i,j]\n",
        "print(correction_factors)\n",
        "# alphas = np.kron(np.eye(2),correction_factors)\n",
        "# print(alphas)\n",
        "alphas=correction_factors\n",
        "h_est = np.linalg.inv(alphas) @ Y\n",
        "print(h_est)\n",
        "print(h_vals_12,h_vals_22)\n",
        "\n"
      ],
      "metadata": {
        "colab": {
          "base_uri": "https://localhost:8080/"
        },
        "id": "X9JjFhlQakJ3",
        "outputId": "416e8884-dad4-4b73-d13b-d3392323421a"
      },
      "execution_count": null,
      "outputs": [
        {
          "output_type": "stream",
          "name": "stdout",
          "text": [
            "[[ 9.98986476e-01+0.00000000e+00j  5.43921629e-02-3.63449898e-02j  3.33451410e-02-3.33484571e-02j]\n",
            " [ 6.75869617e-08-1.01426053e-07j  8.17123756e-01+3.38463768e-01j  4.02364548e-02-1.88797768e-03j]\n",
            " [ 9.29829407e-08-1.18112322e-18j -4.37960385e-03-2.77102829e-02j -7.75099329e-09+8.75000009e-01j]]\n",
            "[[ 9.98986476e-01+0.00000000e+00j  5.98033397e-02-2.47734576e-02j  1.97260658e-02-4.76262721e-02j]\n",
            " [ 7.60420714e-08-1.09894870e-07j  6.25399445e-01+6.25399466e-01j  2.71164648e-02+2.97865023e-02j]\n",
            " [ 8.45194491e-08-1.61900650e-18j -6.55806803e-03-2.72769638e-02j  6.18718428e-01+6.18718448e-01j]]\n",
            "[[ 9.98986476e-01+0.00000000e+00j  5.43921629e-02-3.63449898e-02j  3.33451410e-02-3.33484571e-02j  0.00000000e+00+0.00000000e+00j  0.00000000e+00+0.00000000e+00j  0.00000000e+00+0.00000000e+00j]\n",
            " [ 6.75869617e-08-1.01426053e-07j  8.17123756e-01+3.38463768e-01j  4.02364548e-02-1.88797768e-03j  0.00000000e+00+0.00000000e+00j  0.00000000e+00+0.00000000e+00j  0.00000000e+00+0.00000000e+00j]\n",
            " [ 9.29829407e-08-1.18112322e-18j -4.37960385e-03-2.77102829e-02j -7.75099329e-09+8.75000009e-01j  0.00000000e+00+0.00000000e+00j  0.00000000e+00+0.00000000e+00j  0.00000000e+00+0.00000000e+00j]\n",
            " [ 0.00000000e+00+0.00000000e+00j  0.00000000e+00+0.00000000e+00j  0.00000000e+00+0.00000000e+00j  9.98986476e-01+0.00000000e+00j  5.98033397e-02-2.47734576e-02j  1.97260658e-02-4.76262721e-02j]\n",
            " [ 0.00000000e+00+0.00000000e+00j  0.00000000e+00+0.00000000e+00j  0.00000000e+00+0.00000000e+00j  7.60420714e-08-1.09894870e-07j  6.25399445e-01+6.25399466e-01j  2.71164648e-02+2.97865023e-02j]\n",
            " [ 0.00000000e+00+0.00000000e+00j  0.00000000e+00+0.00000000e+00j  0.00000000e+00+0.00000000e+00j  8.45194491e-08-1.61900650e-18j -6.55806803e-03-2.72769638e-02j  6.18718428e-01+6.18718448e-01j]]\n",
            "[ 1. -3.90312782e-18j  0.4+3.00000000e-01j -0.2+1.00000000e-01j  1.6+6.93889390e-18j  0.8+6.00000000e-01j -0.5+7.00000000e-01j]\n",
            "[ 1. +0.j   0.4+0.3j -0.2+0.1j] [ 1.6+0.j   0.8+0.6j -0.5+0.7j]\n"
          ]
        }
      ]
    }
  ]
}